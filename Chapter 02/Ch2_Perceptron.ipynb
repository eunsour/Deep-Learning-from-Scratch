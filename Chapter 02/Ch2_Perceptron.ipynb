{
  "nbformat": 4,
  "nbformat_minor": 0,
  "metadata": {
    "colab": {
      "name": "Ch2. Perceptron",
      "provenance": [],
      "collapsed_sections": [],
      "authorship_tag": "ABX9TyNpGnrnjGfJeDuCN+CE7qqt",
      "include_colab_link": true
    },
    "kernelspec": {
      "name": "python3",
      "display_name": "Python 3"
    },
    "language_info": {
      "name": "python"
    }
  },
  "cells": [
    {
      "cell_type": "markdown",
      "metadata": {
        "id": "view-in-github",
        "colab_type": "text"
      },
      "source": [
        "<a href=\"https://colab.research.google.com/github/eunsour/Deep-Learning-from-Scratch/blob/main/Chapter%2002/Ch2_Perceptron.ipynb\" target=\"_parent\"><img src=\"https://colab.research.google.com/assets/colab-badge.svg\" alt=\"Open In Colab\"/></a>"
      ]
    },
    {
      "cell_type": "markdown",
      "metadata": {
        "id": "KhTpN_Ythyqv"
      },
      "source": [
        "# 2.1 퍼셉트론이란?\n",
        "![image.png](data:image/png;base64,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)\n",
        "1. 퍼셉트론은 다수의 신호를 입력으로 받아 하나의 신호를 출력한다.\n",
        "2. 실제 전류와 달리 퍼셉트론 신호는 '흐른다/안 흐른다(1이나 0)'의 두 가지 값을 가질 수 있다.\n",
        "3. x1, x2는 입력 신호, y는 출력 신호, w1과 w2는 가중치를 뜻한다. \n",
        "4. 그림의 원을 **뉴런** 혹은 **노드**라고 부른다.\n",
        "5. 입력 신호가 뉴런에 보내질 떄는 각각 고유한 **가중치**가 곱해진다.\n",
        "6. 뉴런에서 보내온 신호의 총합이 정해진 한계를 넘어설 때만 1을 출력한다. \n",
        "7. 이 책에서는 그 한계를 **임계값**이라 하며, 세타 기호로 나타낸다.\n",
        "\n"
      ]
    },
    {
      "cell_type": "markdown",
      "metadata": {
        "id": "xWmg-whXnKIR"
      },
      "source": [
        "# 2.2 단순한 논리 회로"
      ]
    },
    {
      "cell_type": "markdown",
      "metadata": {
        "id": "G367v8-anUE2"
      },
      "source": [
        "### 2.2.1 AND 게이트"
      ]
    },
    {
      "cell_type": "code",
      "metadata": {
        "id": "YNVR_0-rnXXn"
      },
      "source": [
        ""
      ],
      "execution_count": null,
      "outputs": []
    }
  ]
}